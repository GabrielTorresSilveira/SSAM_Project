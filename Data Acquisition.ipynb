{
 "cells": [
  {
   "cell_type": "markdown",
   "metadata": {
    "tags": []
   },
   "source": [
    "# Data Acquisition"
   ]
  },
  {
   "cell_type": "markdown",
   "metadata": {
    "jp-MarkdownHeadingCollapsed": true,
    "tags": []
   },
   "source": [
    "## 1. Functions"
   ]
  },
  {
   "cell_type": "code",
   "execution_count": 1,
   "metadata": {},
   "outputs": [],
   "source": [
    "def getolxpage(url):\n",
    "    headers = {'User-Agent': 'Mozilla/5.0 (Windows NT 6.2; Win64; x64) AppleWebKit/537.36 (KHTML, like Gecko) Chrome/32.0.1667.0 Safari/537.36'}\n",
    "    page = requests.get(url, headers = headers)\n",
    "    soup = BeautifulSoup(page.text, 'html.parser')\n",
    "    return (soup)"
   ]
  },
  {
   "cell_type": "code",
   "execution_count": 70,
   "metadata": {},
   "outputs": [],
   "source": [
    "def getolxnextpage(soup):\n",
    "    curr_page = 100000000\n",
    "    advertiserContent = soup.find_all(class_ = 'sc-1ef50gp-1 jqQzXH')\n",
    "    for _ in advertiserContent:\n",
    "        a = _.find_all('a')\n",
    "        if len(a) == 0:\n",
    "            curr_page = int(_.text)\n",
    "        else:\n",
    "            if int(_.text) == curr_page + 1:\n",
    "                nextpage = _.find_all('a')[0].get('href')\n",
    "                break\n",
    "    return (nextpage)"
   ]
  },
  {
   "cell_type": "code",
   "execution_count": 3,
   "metadata": {},
   "outputs": [],
   "source": [
    "def getadvdata(adv_page):\n",
    "    price = adv_page.find(class_ = 'ad__sc-1wimjbb-1 hoHpcC sc-clNaTc euPJCv').contents[0]\n",
    "    groups = adv_page.find_all('div', {'data-testid': 'ad-properties'})\n",
    "    \n",
    "    data_dict = {}\n",
    "    for group in groups:\n",
    "        names = group.find_all(['dt'])\n",
    "        adv_data = group.find_all(['a', 'dd'])\n",
    "        for name, data in zip(names, adv_data):\n",
    "            if 'R$' not in name:\n",
    "                data_dict[name.contents[0]] = data.contents[0]\n",
    "    data_dict['Valor'] = price\n",
    "    return(data_dict)     "
   ]
  },
  {
   "cell_type": "code",
   "execution_count": 71,
   "metadata": {},
   "outputs": [],
   "source": [
    "def getpagecontent(soup):\n",
    "    page_data = {}\n",
    "    advs = soup.find('ul', {'id': 'ad-list'}).find_all('li')\n",
    "    for adv in advs:\n",
    "        try:\n",
    "            ID = adv.find('a').get('data-lurker_list_id')\n",
    "            adv_page = getolxpage(adv.find('a').get('href'))\n",
    "            page_data[ID] = getadvdata(adv_page)     \n",
    "        except:\n",
    "            pass\n",
    "    return(page_data)"
   ]
  },
  {
   "cell_type": "markdown",
   "metadata": {
    "jp-MarkdownHeadingCollapsed": true,
    "tags": []
   },
   "source": [
    "## 2. Required Libs"
   ]
  },
  {
   "cell_type": "code",
   "execution_count": 91,
   "metadata": {},
   "outputs": [],
   "source": [
    "import json\n",
    "import requests\n",
    "import unidecode\n",
    "import pandas as pd\n",
    "from bs4 import BeautifulSoup"
   ]
  },
  {
   "cell_type": "markdown",
   "metadata": {
    "tags": []
   },
   "source": [
    "## 3. Running"
   ]
  },
  {
   "cell_type": "markdown",
   "metadata": {
    "jp-MarkdownHeadingCollapsed": true,
    "tags": []
   },
   "source": [
    "### 3.1. Web Scraping for Data"
   ]
  },
  {
   "cell_type": "code",
   "execution_count": 72,
   "metadata": {
    "collapsed": true,
    "jupyter": {
     "outputs_hidden": true
    },
    "scrolled": true,
    "tags": []
   },
   "outputs": [
    {
     "name": "stdout",
     "output_type": "stream",
     "text": [
      "https://al.olx.com.br/imoveis/venda\n",
      "https://al.olx.com.br/imoveis/venda?o=2\n",
      "https://al.olx.com.br/imoveis/venda?o=3\n",
      "https://al.olx.com.br/imoveis/venda?o=4\n",
      "https://al.olx.com.br/imoveis/venda?o=5\n",
      "https://al.olx.com.br/imoveis/venda?o=6\n",
      "https://al.olx.com.br/imoveis/venda?o=7\n",
      "https://al.olx.com.br/imoveis/venda?o=8\n",
      "https://al.olx.com.br/imoveis/venda?o=9\n",
      "https://al.olx.com.br/imoveis/venda?o=10\n",
      "https://al.olx.com.br/imoveis/venda?o=11\n",
      "https://al.olx.com.br/imoveis/venda?o=12\n",
      "https://al.olx.com.br/imoveis/venda?o=13\n",
      "https://al.olx.com.br/imoveis/venda?o=14\n",
      "https://al.olx.com.br/imoveis/venda?o=15\n",
      "https://al.olx.com.br/imoveis/venda?o=16\n",
      "https://al.olx.com.br/imoveis/venda?o=17\n",
      "https://al.olx.com.br/imoveis/venda?o=18\n",
      "https://al.olx.com.br/imoveis/venda?o=19\n",
      "https://al.olx.com.br/imoveis/venda?o=20\n",
      "https://al.olx.com.br/imoveis/venda?o=21\n",
      "https://al.olx.com.br/imoveis/venda?o=22\n",
      "https://al.olx.com.br/imoveis/venda?o=23\n",
      "https://al.olx.com.br/imoveis/venda?o=24\n",
      "https://al.olx.com.br/imoveis/venda?o=25\n",
      "https://al.olx.com.br/imoveis/venda?o=26\n",
      "https://al.olx.com.br/imoveis/venda?o=27\n",
      "https://al.olx.com.br/imoveis/venda?o=28\n",
      "https://al.olx.com.br/imoveis/venda?o=29\n",
      "https://al.olx.com.br/imoveis/venda?o=30\n",
      "https://al.olx.com.br/imoveis/venda?o=31\n",
      "https://al.olx.com.br/imoveis/venda?o=32\n",
      "https://al.olx.com.br/imoveis/venda?o=33\n",
      "https://al.olx.com.br/imoveis/venda?o=34\n",
      "https://al.olx.com.br/imoveis/venda?o=35\n",
      "https://al.olx.com.br/imoveis/venda?o=36\n",
      "https://al.olx.com.br/imoveis/venda?o=37\n",
      "https://al.olx.com.br/imoveis/venda?o=38\n",
      "https://al.olx.com.br/imoveis/venda?o=39\n",
      "https://al.olx.com.br/imoveis/venda?o=40\n",
      "https://al.olx.com.br/imoveis/venda?o=41\n",
      "https://al.olx.com.br/imoveis/venda?o=42\n",
      "https://al.olx.com.br/imoveis/venda?o=43\n",
      "https://al.olx.com.br/imoveis/venda?o=44\n",
      "https://al.olx.com.br/imoveis/venda?o=45\n",
      "https://al.olx.com.br/imoveis/venda?o=46\n",
      "https://al.olx.com.br/imoveis/venda?o=47\n",
      "https://al.olx.com.br/imoveis/venda?o=48\n",
      "https://al.olx.com.br/imoveis/venda?o=49\n",
      "https://al.olx.com.br/imoveis/venda?o=50\n",
      "https://al.olx.com.br/imoveis/venda?o=51\n",
      "https://al.olx.com.br/imoveis/venda?o=52\n",
      "https://al.olx.com.br/imoveis/venda?o=53\n",
      "https://al.olx.com.br/imoveis/venda?o=54\n",
      "https://al.olx.com.br/imoveis/venda?o=55\n",
      "https://al.olx.com.br/imoveis/venda?o=56\n",
      "https://al.olx.com.br/imoveis/venda?o=57\n",
      "https://al.olx.com.br/imoveis/venda?o=58\n",
      "https://al.olx.com.br/imoveis/venda?o=59\n",
      "https://al.olx.com.br/imoveis/venda?o=60\n",
      "https://al.olx.com.br/imoveis/venda?o=61\n",
      "https://al.olx.com.br/imoveis/venda?o=62\n",
      "https://al.olx.com.br/imoveis/venda?o=63\n",
      "https://al.olx.com.br/imoveis/venda?o=64\n",
      "https://al.olx.com.br/imoveis/venda?o=65\n",
      "https://al.olx.com.br/imoveis/venda?o=66\n",
      "https://al.olx.com.br/imoveis/venda?o=67\n",
      "https://al.olx.com.br/imoveis/venda?o=68\n",
      "https://al.olx.com.br/imoveis/venda?o=69\n",
      "https://al.olx.com.br/imoveis/venda?o=70\n",
      "https://al.olx.com.br/imoveis/venda?o=71\n",
      "https://al.olx.com.br/imoveis/venda?o=72\n",
      "https://al.olx.com.br/imoveis/venda?o=73\n",
      "https://al.olx.com.br/imoveis/venda?o=74\n",
      "https://al.olx.com.br/imoveis/venda?o=75\n",
      "https://al.olx.com.br/imoveis/venda?o=76\n",
      "https://al.olx.com.br/imoveis/venda?o=77\n",
      "https://al.olx.com.br/imoveis/venda?o=78\n",
      "https://al.olx.com.br/imoveis/venda?o=79\n",
      "https://al.olx.com.br/imoveis/venda?o=80\n",
      "https://al.olx.com.br/imoveis/venda?o=81\n",
      "https://al.olx.com.br/imoveis/venda?o=82\n",
      "https://al.olx.com.br/imoveis/venda?o=83\n",
      "https://al.olx.com.br/imoveis/venda?o=84\n",
      "https://al.olx.com.br/imoveis/venda?o=85\n",
      "https://al.olx.com.br/imoveis/venda?o=86\n",
      "https://al.olx.com.br/imoveis/venda?o=87\n",
      "https://al.olx.com.br/imoveis/venda?o=88\n",
      "https://al.olx.com.br/imoveis/venda?o=89\n",
      "https://al.olx.com.br/imoveis/venda?o=90\n",
      "https://al.olx.com.br/imoveis/venda?o=91\n",
      "https://al.olx.com.br/imoveis/venda?o=92\n",
      "https://al.olx.com.br/imoveis/venda?o=93\n",
      "https://al.olx.com.br/imoveis/venda?o=94\n",
      "https://al.olx.com.br/imoveis/venda?o=95\n",
      "https://al.olx.com.br/imoveis/venda?o=96\n",
      "https://al.olx.com.br/imoveis/venda?o=97\n",
      "https://al.olx.com.br/imoveis/venda?o=98\n",
      "https://al.olx.com.br/imoveis/venda?o=99\n",
      "https://al.olx.com.br/imoveis/venda?o=100\n"
     ]
    }
   ],
   "source": [
    "url = 'https://al.olx.com.br/imoveis/venda'\n",
    "urls = []\n",
    "a = True\n",
    "site_data = []\n",
    "while a == True:    \n",
    "    try:\n",
    "        print(url)\n",
    "        urls.append(url)        \n",
    "        soup = getolxpage(url)       \n",
    "        site_data.append(getpagecontent(soup))        \n",
    "        url = getolxnextpage(soup)        \n",
    "        if url in urls:\n",
    "            a = False     \n",
    "    except:\n",
    "        a = False\n"
   ]
  }
 ],
 "metadata": {
  "kernelspec": {
   "display_name": "Python 3 (ipykernel)",
   "language": "python",
   "name": "python3"
  },
  "language_info": {
   "codemirror_mode": {
    "name": "ipython",
    "version": 3
   },
   "file_extension": ".py",
   "mimetype": "text/x-python",
   "name": "python",
   "nbconvert_exporter": "python",
   "pygments_lexer": "ipython3",
   "version": "3.9.7"
  }
 },
 "nbformat": 4,
 "nbformat_minor": 4
}
